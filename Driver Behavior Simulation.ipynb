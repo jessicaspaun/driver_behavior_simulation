{
 "cells": [
  {
   "cell_type": "code",
   "execution_count": 1,
   "id": "57066a68",
   "metadata": {},
   "outputs": [],
   "source": [
    "import numpy as np\n",
    "import pandas as pd\n",
    "from tqdm import tqdm\n",
    "from tqdm import tqdm_notebook as tq\n"
   ]
  },
  {
   "cell_type": "code",
   "execution_count": 2,
   "id": "a4866c43",
   "metadata": {},
   "outputs": [],
   "source": [
    "# Import data for probabilities\n",
    "probability_table = pd.read_csv('driver_attention.csv')\n",
    "driver_impairment_table = pd.read_csv('driver_impairment.csv')"
   ]
  },
  {
   "cell_type": "code",
   "execution_count": 3,
   "id": "a3ce8306",
   "metadata": {},
   "outputs": [
    {
     "data": {
      "text/html": [
       "<div>\n",
       "<style scoped>\n",
       "    .dataframe tbody tr th:only-of-type {\n",
       "        vertical-align: middle;\n",
       "    }\n",
       "\n",
       "    .dataframe tbody tr th {\n",
       "        vertical-align: top;\n",
       "    }\n",
       "\n",
       "    .dataframe thead th {\n",
       "        text-align: right;\n",
       "    }\n",
       "</style>\n",
       "<table border=\"1\" class=\"dataframe\">\n",
       "  <thead>\n",
       "    <tr style=\"text-align: right;\">\n",
       "      <th></th>\n",
       "      <th>Impairments</th>\n",
       "      <th>None</th>\n",
       "      <th>Distracted</th>\n",
       "      <th>Drowsy, sleepy, asleep, fatigued</th>\n",
       "      <th>Exceeded speed limit</th>\n",
       "      <th>Exceeded safe speed but not speed limit</th>\n",
       "      <th>Driving slowly: below speed limit</th>\n",
       "      <th>Driving slowly in relation to other traffic: not below speed limit</th>\n",
       "      <th>Passing on right</th>\n",
       "      <th>Illegal passing</th>\n",
       "      <th>...</th>\n",
       "      <th>Avoiding other vehicle</th>\n",
       "      <th>Avoiding animal</th>\n",
       "      <th>Apparent unfamiliarity with roadway</th>\n",
       "      <th>Apparent unfamiliarity with vehicle</th>\n",
       "      <th>Apparent general inexperience driving</th>\n",
       "      <th>Use of cruise control contributed to late braking</th>\n",
       "      <th>Other</th>\n",
       "      <th>Unknown</th>\n",
       "      <th>NULL (no value)</th>\n",
       "      <th>Total</th>\n",
       "    </tr>\n",
       "  </thead>\n",
       "  <tbody>\n",
       "    <tr>\n",
       "      <th>10</th>\n",
       "      <td>Deaf</td>\n",
       "      <td>0</td>\n",
       "      <td>0</td>\n",
       "      <td>0</td>\n",
       "      <td>0</td>\n",
       "      <td>0</td>\n",
       "      <td>0</td>\n",
       "      <td>0</td>\n",
       "      <td>0</td>\n",
       "      <td>0</td>\n",
       "      <td>...</td>\n",
       "      <td>0</td>\n",
       "      <td>0</td>\n",
       "      <td>0</td>\n",
       "      <td>0</td>\n",
       "      <td>0</td>\n",
       "      <td>0</td>\n",
       "      <td>0</td>\n",
       "      <td>0</td>\n",
       "      <td>0</td>\n",
       "      <td>0</td>\n",
       "    </tr>\n",
       "    <tr>\n",
       "      <th>11</th>\n",
       "      <td>Other</td>\n",
       "      <td>51</td>\n",
       "      <td>26</td>\n",
       "      <td>2</td>\n",
       "      <td>7</td>\n",
       "      <td>2</td>\n",
       "      <td>1</td>\n",
       "      <td>0</td>\n",
       "      <td>0</td>\n",
       "      <td>0</td>\n",
       "      <td>...</td>\n",
       "      <td>0</td>\n",
       "      <td>0</td>\n",
       "      <td>1</td>\n",
       "      <td>0</td>\n",
       "      <td>0</td>\n",
       "      <td>0</td>\n",
       "      <td>0</td>\n",
       "      <td>1</td>\n",
       "      <td>0</td>\n",
       "      <td>107</td>\n",
       "    </tr>\n",
       "    <tr>\n",
       "      <th>12</th>\n",
       "      <td>Unknown</td>\n",
       "      <td>4</td>\n",
       "      <td>0</td>\n",
       "      <td>0</td>\n",
       "      <td>0</td>\n",
       "      <td>1</td>\n",
       "      <td>0</td>\n",
       "      <td>0</td>\n",
       "      <td>0</td>\n",
       "      <td>0</td>\n",
       "      <td>...</td>\n",
       "      <td>0</td>\n",
       "      <td>0</td>\n",
       "      <td>0</td>\n",
       "      <td>0</td>\n",
       "      <td>0</td>\n",
       "      <td>0</td>\n",
       "      <td>0</td>\n",
       "      <td>0</td>\n",
       "      <td>0</td>\n",
       "      <td>5</td>\n",
       "    </tr>\n",
       "    <tr>\n",
       "      <th>13</th>\n",
       "      <td>NULL (no value)</td>\n",
       "      <td>0</td>\n",
       "      <td>0</td>\n",
       "      <td>0</td>\n",
       "      <td>0</td>\n",
       "      <td>0</td>\n",
       "      <td>0</td>\n",
       "      <td>0</td>\n",
       "      <td>0</td>\n",
       "      <td>0</td>\n",
       "      <td>...</td>\n",
       "      <td>0</td>\n",
       "      <td>0</td>\n",
       "      <td>0</td>\n",
       "      <td>0</td>\n",
       "      <td>0</td>\n",
       "      <td>0</td>\n",
       "      <td>0</td>\n",
       "      <td>0</td>\n",
       "      <td>0</td>\n",
       "      <td>0</td>\n",
       "    </tr>\n",
       "    <tr>\n",
       "      <th>14</th>\n",
       "      <td>Total</td>\n",
       "      <td>32966</td>\n",
       "      <td>1893</td>\n",
       "      <td>594</td>\n",
       "      <td>1135</td>\n",
       "      <td>363</td>\n",
       "      <td>171</td>\n",
       "      <td>155</td>\n",
       "      <td>78</td>\n",
       "      <td>59</td>\n",
       "      <td>...</td>\n",
       "      <td>88</td>\n",
       "      <td>7</td>\n",
       "      <td>76</td>\n",
       "      <td>4</td>\n",
       "      <td>13</td>\n",
       "      <td>0</td>\n",
       "      <td>109</td>\n",
       "      <td>9</td>\n",
       "      <td>0</td>\n",
       "      <td>40859</td>\n",
       "    </tr>\n",
       "  </tbody>\n",
       "</table>\n",
       "<p>5 rows × 61 columns</p>\n",
       "</div>"
      ],
      "text/plain": [
       "        Impairments   None  Distracted  Drowsy, sleepy, asleep, fatigued  \\\n",
       "10             Deaf      0           0                                 0   \n",
       "11            Other     51          26                                 2   \n",
       "12          Unknown      4           0                                 0   \n",
       "13  NULL (no value)      0           0                                 0   \n",
       "14            Total  32966        1893                               594   \n",
       "\n",
       "    Exceeded speed limit  Exceeded safe speed but not speed limit  \\\n",
       "10                     0                                        0   \n",
       "11                     7                                        2   \n",
       "12                     0                                        1   \n",
       "13                     0                                        0   \n",
       "14                  1135                                      363   \n",
       "\n",
       "    Driving slowly: below speed limit  \\\n",
       "10                                  0   \n",
       "11                                  1   \n",
       "12                                  0   \n",
       "13                                  0   \n",
       "14                                171   \n",
       "\n",
       "    Driving slowly in relation to other traffic: not below speed limit  \\\n",
       "10                                                  0                    \n",
       "11                                                  0                    \n",
       "12                                                  0                    \n",
       "13                                                  0                    \n",
       "14                                                155                    \n",
       "\n",
       "    Passing on right  Illegal passing  ...  Avoiding other vehicle  \\\n",
       "10                 0                0  ...                       0   \n",
       "11                 0                0  ...                       0   \n",
       "12                 0                0  ...                       0   \n",
       "13                 0                0  ...                       0   \n",
       "14                78               59  ...                      88   \n",
       "\n",
       "    Avoiding animal  Apparent unfamiliarity with roadway  \\\n",
       "10                0                                    0   \n",
       "11                0                                    1   \n",
       "12                0                                    0   \n",
       "13                0                                    0   \n",
       "14                7                                   76   \n",
       "\n",
       "    Apparent unfamiliarity with vehicle  \\\n",
       "10                                    0   \n",
       "11                                    0   \n",
       "12                                    0   \n",
       "13                                    0   \n",
       "14                                    4   \n",
       "\n",
       "    Apparent general inexperience driving  \\\n",
       "10                                      0   \n",
       "11                                      0   \n",
       "12                                      0   \n",
       "13                                      0   \n",
       "14                                     13   \n",
       "\n",
       "    Use of cruise control contributed to late braking  Other  Unknown  \\\n",
       "10                                                  0      0        0   \n",
       "11                                                  0      0        1   \n",
       "12                                                  0      0        0   \n",
       "13                                                  0      0        0   \n",
       "14                                                  0    109        9   \n",
       "\n",
       "    NULL (no value)  Total  \n",
       "10                0      0  \n",
       "11                0    107  \n",
       "12                0      5  \n",
       "13                0      0  \n",
       "14                0  40859  \n",
       "\n",
       "[5 rows x 61 columns]"
      ]
     },
     "metadata": {},
     "output_type": "display_data"
    }
   ],
   "source": [
    "# View data\n",
    "display(probability_table.tail())"
   ]
  },
  {
   "cell_type": "code",
   "execution_count": 4,
   "id": "9c843ad7",
   "metadata": {},
   "outputs": [
    {
     "name": "stdout",
     "output_type": "stream",
     "text": [
      "40859\n"
     ]
    }
   ],
   "source": [
    "# Find total Crashes\n",
    "TOTAL_CRASHES = probability_table[:-1]['Total'].sum()\n",
    "print(TOTAL_CRASHES)"
   ]
  },
  {
   "cell_type": "code",
   "execution_count": 5,
   "id": "6517236f",
   "metadata": {},
   "outputs": [
    {
     "data": {
      "text/plain": [
       "0                        None apparent\n",
       "1     Drowsy, sleepy, asleep, fatigued\n",
       "2                        Ill, blackout\n",
       "3                                Angry\n",
       "4                Other emotional state\n",
       "5                    Drugs, medication\n",
       "6                       Drugs, alcohol\n",
       "7                  Other illicit drugs\n",
       "8             Restricted to wheelchair\n",
       "9      Impaired due to previous injury\n",
       "10                                Deaf\n",
       "11                               Other\n",
       "12                             Unknown\n",
       "13                     NULL (no value)\n",
       "14                               Total\n",
       "Name: Impairments, dtype: object"
      ]
     },
     "execution_count": 5,
     "metadata": {},
     "output_type": "execute_result"
    }
   ],
   "source": [
    "IMPAIRMENTS = probability_table['Impairments']\n",
    "IMPAIRMENTS"
   ]
  },
  {
   "cell_type": "code",
   "execution_count": 6,
   "id": "ef2f5afb",
   "metadata": {},
   "outputs": [],
   "source": [
    "BEHAVIOR_PROB_DICT = {}\n",
    "for col in probability_table:\n",
    "    if (col == 'Impairments') | (col == 'NULL (no value)') | (col == 'Total'):\n",
    "        next\n",
    "    else:\n",
    "        BEHAVIOR_PROB_DICT[col] = (probability_table[col].iloc[14] / TOTAL_CRASHES)"
   ]
  },
  {
   "cell_type": "code",
   "execution_count": 7,
   "id": "e46f6256",
   "metadata": {},
   "outputs": [],
   "source": [
    "# BEHAVIOR_PROB_DICT"
   ]
  },
  {
   "cell_type": "code",
   "execution_count": null,
   "id": "1847eceb",
   "metadata": {},
   "outputs": [],
   "source": []
  },
  {
   "cell_type": "code",
   "execution_count": null,
   "id": "065e0be9",
   "metadata": {},
   "outputs": [
    {
     "data": {
      "application/vnd.jupyter.widget-view+json": {
       "model_id": "29d81dc24e3d4e59841a616c86f2da02",
       "version_major": 2,
       "version_minor": 0
      },
      "text/plain": [
       "HBox(children=(IntProgress(value=0, max=1000000), HTML(value='')))"
      ]
     },
     "metadata": {},
     "output_type": "display_data"
    }
   ],
   "source": [
    "# Assign each driver a random behavior\n",
    "driver_behavior = []\n",
    "items = list(BEHAVIOR_PROB_DICT.items())  # List of tuples of (key,values)\n",
    "\n",
    "\n",
    " \n",
    "\n",
    "for i in tq(range(1000000)):\n",
    "    assigned_behavior = 0\n",
    "    np.random.shuffle(items)\n",
    "    while assigned_behavior == 0:\n",
    "        for key, value in items:\n",
    "        #     print(key, \":\", value)\n",
    "            behavior = np.random.binomial(1, value)\n",
    "            if behavior == 1:\n",
    "                driver_behavior.append(key)\n",
    "                assigned_behavior = 1\n",
    "                break"
   ]
  },
  {
   "cell_type": "code",
   "execution_count": null,
   "id": "3466dcb6",
   "metadata": {},
   "outputs": [],
   "source": [
    "len(driver_behavior)"
   ]
  },
  {
   "cell_type": "markdown",
   "id": "09d04ab3",
   "metadata": {},
   "source": [
    "## Assign Impairment based on Behavior"
   ]
  },
  {
   "cell_type": "code",
   "execution_count": null,
   "id": "1b6b3b3d",
   "metadata": {},
   "outputs": [],
   "source": [
    "display(driver_impairment_table.tail())"
   ]
  },
  {
   "cell_type": "code",
   "execution_count": null,
   "id": "ed1d9576",
   "metadata": {},
   "outputs": [],
   "source": [
    "driver_impairment = []"
   ]
  },
  {
   "cell_type": "code",
   "execution_count": null,
   "id": "08b652ba",
   "metadata": {},
   "outputs": [],
   "source": [
    "for driver in tq(driver_behavior):\n",
    "#     print(driver)\n",
    "#     print(np.array(driver_impairment_table[driver]))\n",
    "    probs = np.array(driver_impairment_table[driver])\n",
    "    impairment_dict = {}\n",
    "    for c, prob in enumerate(probs):\n",
    "        impairment_dict[driver_impairment_table['Impairments'].iloc[c]] = prob\n",
    "#     print(impairment_dict)\n",
    "    \n",
    "    \n",
    "    assigned_impairment = 0\n",
    "    items = list(impairment_dict.items())\n",
    "    np.random.shuffle(items)\n",
    "    while assigned_impairment == 0:\n",
    "        for key, value in items:\n",
    "        #     print(key, \":\", value)\n",
    "            impairment = np.random.binomial(1, value)\n",
    "            if impairment == 1:\n",
    "                driver_impairment.append(key)\n",
    "                assigned_impairment = 1\n",
    "                break\n"
   ]
  },
  {
   "cell_type": "code",
   "execution_count": null,
   "id": "c99fc2d4",
   "metadata": {},
   "outputs": [],
   "source": [
    "len(driver_impairment)"
   ]
  },
  {
   "cell_type": "code",
   "execution_count": null,
   "id": "4ed48023",
   "metadata": {},
   "outputs": [],
   "source": []
  },
  {
   "cell_type": "code",
   "execution_count": null,
   "id": "0bbc27a9",
   "metadata": {},
   "outputs": [],
   "source": [
    "# Based on driver behavior select driver impairment"
   ]
  }
 ],
 "metadata": {
  "kernelspec": {
   "display_name": "Python 3",
   "language": "python",
   "name": "python3"
  },
  "language_info": {
   "codemirror_mode": {
    "name": "ipython",
    "version": 3
   },
   "file_extension": ".py",
   "mimetype": "text/x-python",
   "name": "python",
   "nbconvert_exporter": "python",
   "pygments_lexer": "ipython3",
   "version": "3.7.4"
  }
 },
 "nbformat": 4,
 "nbformat_minor": 5
}
