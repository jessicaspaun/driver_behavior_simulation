{
 "cells": [
  {
   "cell_type": "code",
   "execution_count": 1,
   "id": "57066a68",
   "metadata": {},
   "outputs": [],
   "source": [
    "import numpy as np\n"
   ]
  },
  {
   "cell_type": "code",
   "execution_count": 2,
   "id": "a4866c43",
   "metadata": {},
   "outputs": [],
   "source": []
  },
  {
   "cell_type": "code",
   "execution_count": 5,
   "id": "1847eceb",
   "metadata": {},
   "outputs": [],
   "source": [
    "driver_behavior = []"
   ]
  },
  {
   "cell_type": "code",
   "execution_count": 7,
   "id": "1e32c6f7",
   "metadata": {},
   "outputs": [],
   "source": [
    "# Randomly initiate driver behaviors\n",
    "\n",
    "for i in range(0,10):\n",
    "    attentive_db = np.random.binomial(1, 0.8)\n",
    "    \n",
    "    # We can add rules of if then for what could be combined and what could not\n",
    "    if attentive_db == 0:\n",
    "        drowsey_db = np.random.binomial(1, 0.01454)\n",
    "        distracted_db = np.random.binomial(1, 0.04633)\n",
    "        speeding_db = np.random.binomial(1, 0.02778)\n",
    "        exceed_safe_speed_db = np.random.binomial(1, 0.00888)\n",
    "    else:\n",
    "        drowsey_db = 0\n",
    "        distracted_db = 0\n",
    "        speeding_db = 0\n",
    "        exceed_safe_speed_db = 0\n",
    "    \n",
    "    # create a list or dictionary for the behavior that each driver exibits (1 means it has behavior, 0 means it does not)\n",
    "    driver_behavior.append([attentive_db, drowsey_db, distracted_db, speeding_db, exceed_safe_speed_db])\n",
    "    \n",
    "    "
   ]
  },
  {
   "cell_type": "code",
   "execution_count": 8,
   "id": "9563b9a0",
   "metadata": {},
   "outputs": [
    {
     "data": {
      "text/plain": [
       "[[1, 0, 0, 0, 0],\n",
       " [1, 0, 0, 0, 0],\n",
       " [1, 0, 0, 0, 0],\n",
       " [0, 0, 0, 0, 0],\n",
       " [1, 0, 0, 0, 0],\n",
       " [1, 0, 0, 0, 0],\n",
       " [1, 0, 0, 0, 0],\n",
       " [1, 0, 0, 0, 0],\n",
       " [1, 0, 0, 0, 0],\n",
       " [1, 0, 0, 0, 0]]"
      ]
     },
     "execution_count": 8,
     "metadata": {},
     "output_type": "execute_result"
    }
   ],
   "source": [
    "driver_behavior # We may need to loop through a couple times to make sure at least one driver behavior is initiated"
   ]
  },
  {
   "cell_type": "code",
   "execution_count": null,
   "id": "0bbc27a9",
   "metadata": {},
   "outputs": [],
   "source": [
    "# Based on driver behavior select driver impairment"
   ]
  }
 ],
 "metadata": {
  "kernelspec": {
   "display_name": "Python 3",
   "language": "python",
   "name": "python3"
  },
  "language_info": {
   "codemirror_mode": {
    "name": "ipython",
    "version": 3
   },
   "file_extension": ".py",
   "mimetype": "text/x-python",
   "name": "python",
   "nbconvert_exporter": "python",
   "pygments_lexer": "ipython3",
   "version": "3.7.4"
  }
 },
 "nbformat": 4,
 "nbformat_minor": 5
}
